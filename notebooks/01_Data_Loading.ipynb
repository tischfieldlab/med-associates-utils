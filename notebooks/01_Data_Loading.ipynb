{
 "cells": [
  {
   "cell_type": "code",
   "execution_count": 1,
   "metadata": {},
   "outputs": [],
   "source": [
    "import os\n",
    "import re\n",
    "\n",
    "from med_associates_utils import parse_ma_directory, SessionCollection"
   ]
  },
  {
   "cell_type": "code",
   "execution_count": 2,
   "metadata": {},
   "outputs": [
    {
     "name": "stdout",
     "output_type": "stream",
     "text": [
      "reading path \"../sample_data/CRF MedAssoc Files/CRF MedAssoc Files\\MT - Day 1\"\n"
     ]
    },
    {
     "data": {
      "application/vnd.jupyter.widget-view+json": {
       "model_id": "22f3455e3c2e43c3941c267a5ee960bf",
       "version_major": 2,
       "version_minor": 0
      },
      "text/plain": [
       "  0%|          | 0/30 [00:00<?, ?it/s]"
      ]
     },
     "metadata": {},
     "output_type": "display_data"
    },
    {
     "name": "stdout",
     "output_type": "stream",
     "text": [
      "reading path \"../sample_data/CRF MedAssoc Files/CRF MedAssoc Files\\MT - Day 2\"\n"
     ]
    },
    {
     "data": {
      "application/vnd.jupyter.widget-view+json": {
       "model_id": "5de397e2375d4bd58649b24e5893c32f",
       "version_major": 2,
       "version_minor": 0
      },
      "text/plain": [
       "  0%|          | 0/30 [00:00<?, ?it/s]"
      ]
     },
     "metadata": {},
     "output_type": "display_data"
    },
    {
     "name": "stdout",
     "output_type": "stream",
     "text": [
      "reading path \"../sample_data/CRF MedAssoc Files/CRF MedAssoc Files\\MT - Day 3\"\n"
     ]
    },
    {
     "data": {
      "application/vnd.jupyter.widget-view+json": {
       "model_id": "99fb420ec0a145f0a5fc567b7c39f6e7",
       "version_major": 2,
       "version_minor": 0
      },
      "text/plain": [
       "  0%|          | 0/30 [00:00<?, ?it/s]"
      ]
     },
     "metadata": {},
     "output_type": "display_data"
    },
    {
     "name": "stdout",
     "output_type": "stream",
     "text": [
      "reading path \"../sample_data/CRF MedAssoc Files/CRF MedAssoc Files\\MT - Day 4\"\n"
     ]
    },
    {
     "data": {
      "application/vnd.jupyter.widget-view+json": {
       "model_id": "7943eb3c299a4dc08653142b2370c55a",
       "version_major": 2,
       "version_minor": 0
      },
      "text/plain": [
       "  0%|          | 0/30 [00:00<?, ?it/s]"
      ]
     },
     "metadata": {},
     "output_type": "display_data"
    },
    {
     "name": "stdout",
     "output_type": "stream",
     "text": [
      "reading path \"../sample_data/CRF MedAssoc Files/CRF MedAssoc Files\\WT - Day 1\"\n"
     ]
    },
    {
     "data": {
      "application/vnd.jupyter.widget-view+json": {
       "model_id": "fe2e5c47ac374948964bcfa354c7fe85",
       "version_major": 2,
       "version_minor": 0
      },
      "text/plain": [
       "  0%|          | 0/26 [00:00<?, ?it/s]"
      ]
     },
     "metadata": {},
     "output_type": "display_data"
    },
    {
     "name": "stdout",
     "output_type": "stream",
     "text": [
      "reading path \"../sample_data/CRF MedAssoc Files/CRF MedAssoc Files\\WT - Day 2\"\n"
     ]
    },
    {
     "data": {
      "application/vnd.jupyter.widget-view+json": {
       "model_id": "70ee1d64431543ff8f5391f74c603da3",
       "version_major": 2,
       "version_minor": 0
      },
      "text/plain": [
       "  0%|          | 0/26 [00:00<?, ?it/s]"
      ]
     },
     "metadata": {},
     "output_type": "display_data"
    },
    {
     "name": "stdout",
     "output_type": "stream",
     "text": [
      "reading path \"../sample_data/CRF MedAssoc Files/CRF MedAssoc Files\\WT - Day 3\"\n"
     ]
    },
    {
     "data": {
      "application/vnd.jupyter.widget-view+json": {
       "model_id": "e326d09e04c84492a585c9e5b17bd524",
       "version_major": 2,
       "version_minor": 0
      },
      "text/plain": [
       "  0%|          | 0/26 [00:00<?, ?it/s]"
      ]
     },
     "metadata": {},
     "output_type": "display_data"
    },
    {
     "name": "stdout",
     "output_type": "stream",
     "text": [
      "reading path \"../sample_data/CRF MedAssoc Files/CRF MedAssoc Files\\WT - Day 4\"\n"
     ]
    },
    {
     "data": {
      "application/vnd.jupyter.widget-view+json": {
       "model_id": "113a670c3cb9462bbd927939c79632fe",
       "version_major": 2,
       "version_minor": 0
      },
      "text/plain": [
       "  0%|          | 0/26 [00:00<?, ?it/s]"
      ]
     },
     "metadata": {},
     "output_type": "display_data"
    }
   ],
   "source": [
    "base_path = r'../sample_data/CRF MedAssoc Files/CRF MedAssoc Files'\n",
    "data_sources = {\n",
    "    os.path.join(base_path, \"MT - Day 1\"): {'Genotype': 'MT', 'Day': 'Day1'},\n",
    "    os.path.join(base_path, \"MT - Day 2\"): {'Genotype': 'MT', 'Day': 'Day2'},\n",
    "    os.path.join(base_path, \"MT - Day 3\"): {'Genotype': 'MT', 'Day': 'Day3'},\n",
    "    os.path.join(base_path, \"MT - Day 4\"): {'Genotype': 'MT', 'Day': 'Day4'},\n",
    "\n",
    "    os.path.join(base_path, \"WT - Day 1\"): {'Genotype': 'WT', 'Day': 'Day1'},\n",
    "    os.path.join(base_path, \"WT - Day 2\"): {'Genotype': 'WT', 'Day': 'Day2'},\n",
    "    os.path.join(base_path, \"WT - Day 3\"): {'Genotype': 'WT', 'Day': 'Day3'},\n",
    "    os.path.join(base_path, \"WT - Day 4\"): {'Genotype': 'WT', 'Day': 'Day4'},\n",
    "}\n",
    "\n",
    "sessions = SessionCollection()\n",
    "for path, meta in data_sources.items():\n",
    "    print(f'reading path \"{path}\"')\n",
    "    ss = parse_ma_directory(path)\n",
    "    ss.update_metadata(meta)\n",
    "    sessions.extend(ss)\n",
    "\n",
    "def set_animal_id(session):\n",
    "    animal_id = re.search(\"EN#\\d+\", session.metadata['Subject']).group(0)\n",
    "    session.metadata['Animal'] = animal_id\n",
    "\n",
    "sessions.apply(set_animal_id)"
   ]
  },
  {
   "cell_type": "code",
   "execution_count": 3,
   "metadata": {},
   "outputs": [
    {
     "data": {
      "text/html": [
       "<div>\n",
       "<style scoped>\n",
       "    .dataframe tbody tr th:only-of-type {\n",
       "        vertical-align: middle;\n",
       "    }\n",
       "\n",
       "    .dataframe tbody tr th {\n",
       "        vertical-align: top;\n",
       "    }\n",
       "\n",
       "    .dataframe thead th {\n",
       "        text-align: right;\n",
       "    }\n",
       "</style>\n",
       "<table border=\"1\" class=\"dataframe\">\n",
       "  <thead>\n",
       "    <tr style=\"text-align: right;\">\n",
       "      <th></th>\n",
       "      <th>StartDate</th>\n",
       "      <th>EndDate</th>\n",
       "      <th>Subject</th>\n",
       "      <th>Experiment</th>\n",
       "      <th>Group</th>\n",
       "      <th>Box</th>\n",
       "      <th>StartTime</th>\n",
       "      <th>StartDateTime</th>\n",
       "      <th>EndTime</th>\n",
       "      <th>EndDateTime</th>\n",
       "      <th>MSN</th>\n",
       "      <th>Genotype</th>\n",
       "      <th>Day</th>\n",
       "      <th>Animal</th>\n",
       "    </tr>\n",
       "  </thead>\n",
       "  <tbody>\n",
       "    <tr>\n",
       "      <th>0</th>\n",
       "      <td>2022-05-08</td>\n",
       "      <td>2022-05-08</td>\n",
       "      <td>1_EN#20_1215</td>\n",
       "      <td>20220508</td>\n",
       "      <td>1</td>\n",
       "      <td>4</td>\n",
       "      <td>07:16:07</td>\n",
       "      <td>2022-05-08 07:16:07</td>\n",
       "      <td>08:46:25</td>\n",
       "      <td>2022-05-08 08:46:25</td>\n",
       "      <td>CRF</td>\n",
       "      <td>MT</td>\n",
       "      <td>Day1</td>\n",
       "      <td>EN#20</td>\n",
       "    </tr>\n",
       "    <tr>\n",
       "      <th>1</th>\n",
       "      <td>2022-05-08</td>\n",
       "      <td>2022-05-08</td>\n",
       "      <td>EN#26_1016</td>\n",
       "      <td>20220508</td>\n",
       "      <td>7</td>\n",
       "      <td>4</td>\n",
       "      <td>17:41:51</td>\n",
       "      <td>2022-05-08 17:41:51</td>\n",
       "      <td>19:11:59</td>\n",
       "      <td>2022-05-08 19:11:59</td>\n",
       "      <td>CRF</td>\n",
       "      <td>MT</td>\n",
       "      <td>Day1</td>\n",
       "      <td>EN#26</td>\n",
       "    </tr>\n",
       "    <tr>\n",
       "      <th>2</th>\n",
       "      <td>2022-05-08</td>\n",
       "      <td>2022-05-08</td>\n",
       "      <td>EN#76_0924</td>\n",
       "      <td>20220508</td>\n",
       "      <td>7</td>\n",
       "      <td>1</td>\n",
       "      <td>17:41:21</td>\n",
       "      <td>2022-05-08 17:41:21</td>\n",
       "      <td>19:11:54</td>\n",
       "      <td>2022-05-08 19:11:54</td>\n",
       "      <td>CRF</td>\n",
       "      <td>MT</td>\n",
       "      <td>Day1</td>\n",
       "      <td>EN#76</td>\n",
       "    </tr>\n",
       "    <tr>\n",
       "      <th>3</th>\n",
       "      <td>2022-05-08</td>\n",
       "      <td>2022-05-08</td>\n",
       "      <td>EN#77_0924</td>\n",
       "      <td>20220508</td>\n",
       "      <td>7</td>\n",
       "      <td>2</td>\n",
       "      <td>17:41:27</td>\n",
       "      <td>2022-05-08 17:41:27</td>\n",
       "      <td>19:11:56</td>\n",
       "      <td>2022-05-08 19:11:56</td>\n",
       "      <td>CRF</td>\n",
       "      <td>MT</td>\n",
       "      <td>Day1</td>\n",
       "      <td>EN#77</td>\n",
       "    </tr>\n",
       "    <tr>\n",
       "      <th>4</th>\n",
       "      <td>2022-05-13</td>\n",
       "      <td>2022-05-13</td>\n",
       "      <td>EN#35_1101</td>\n",
       "      <td>20220513</td>\n",
       "      <td>8</td>\n",
       "      <td>2</td>\n",
       "      <td>12:58:24</td>\n",
       "      <td>2022-05-13 12:58:24</td>\n",
       "      <td>13:54:32</td>\n",
       "      <td>2022-05-13 13:54:32</td>\n",
       "      <td>CRF</td>\n",
       "      <td>MT</td>\n",
       "      <td>Day1</td>\n",
       "      <td>EN#35</td>\n",
       "    </tr>\n",
       "    <tr>\n",
       "      <th>...</th>\n",
       "      <td>...</td>\n",
       "      <td>...</td>\n",
       "      <td>...</td>\n",
       "      <td>...</td>\n",
       "      <td>...</td>\n",
       "      <td>...</td>\n",
       "      <td>...</td>\n",
       "      <td>...</td>\n",
       "      <td>...</td>\n",
       "      <td>...</td>\n",
       "      <td>...</td>\n",
       "      <td>...</td>\n",
       "      <td>...</td>\n",
       "      <td>...</td>\n",
       "    </tr>\n",
       "    <tr>\n",
       "      <th>219</th>\n",
       "      <td>2023-03-04</td>\n",
       "      <td>2023-03-04</td>\n",
       "      <td>2_EN#50-1125</td>\n",
       "      <td>20230304</td>\n",
       "      <td>2</td>\n",
       "      <td>2</td>\n",
       "      <td>10:05:08</td>\n",
       "      <td>2023-03-04 10:05:08</td>\n",
       "      <td>10:31:15</td>\n",
       "      <td>2023-03-04 10:31:15</td>\n",
       "      <td>CRFv2023</td>\n",
       "      <td>WT</td>\n",
       "      <td>Day4</td>\n",
       "      <td>EN#50</td>\n",
       "    </tr>\n",
       "    <tr>\n",
       "      <th>220</th>\n",
       "      <td>2023-03-04</td>\n",
       "      <td>2023-03-04</td>\n",
       "      <td>4_EN#33-1012</td>\n",
       "      <td>20230304</td>\n",
       "      <td>4</td>\n",
       "      <td>4</td>\n",
       "      <td>11:10:05</td>\n",
       "      <td>2023-03-04 11:10:05</td>\n",
       "      <td>12:34:00</td>\n",
       "      <td>2023-03-04 12:34:00</td>\n",
       "      <td>CRFv2023</td>\n",
       "      <td>WT</td>\n",
       "      <td>Day4</td>\n",
       "      <td>EN#33</td>\n",
       "    </tr>\n",
       "    <tr>\n",
       "      <th>221</th>\n",
       "      <td>2023-03-04</td>\n",
       "      <td>2023-03-04</td>\n",
       "      <td>4_EN#44-1126</td>\n",
       "      <td>20230304</td>\n",
       "      <td>4</td>\n",
       "      <td>3</td>\n",
       "      <td>11:39:38</td>\n",
       "      <td>2023-03-04 11:39:38</td>\n",
       "      <td>11:54:45</td>\n",
       "      <td>2023-03-04 11:54:45</td>\n",
       "      <td>CRFv2023</td>\n",
       "      <td>WT</td>\n",
       "      <td>Day4</td>\n",
       "      <td>EN#44</td>\n",
       "    </tr>\n",
       "    <tr>\n",
       "      <th>222</th>\n",
       "      <td>2023-03-04</td>\n",
       "      <td>2023-03-04</td>\n",
       "      <td>4_EN#31-1012</td>\n",
       "      <td>20230304</td>\n",
       "      <td>4</td>\n",
       "      <td>1</td>\n",
       "      <td>11:45:14</td>\n",
       "      <td>2023-03-04 11:45:14</td>\n",
       "      <td>12:44:01</td>\n",
       "      <td>2023-03-04 12:44:01</td>\n",
       "      <td>CRFv2023</td>\n",
       "      <td>WT</td>\n",
       "      <td>Day4</td>\n",
       "      <td>EN#31</td>\n",
       "    </tr>\n",
       "    <tr>\n",
       "      <th>223</th>\n",
       "      <td>2023-03-04</td>\n",
       "      <td>2023-03-04</td>\n",
       "      <td>5_EN#45-1126</td>\n",
       "      <td>20230304</td>\n",
       "      <td>5</td>\n",
       "      <td>1</td>\n",
       "      <td>12:48:44</td>\n",
       "      <td>2023-03-04 12:48:44</td>\n",
       "      <td>13:30:29</td>\n",
       "      <td>2023-03-04 13:30:29</td>\n",
       "      <td>CRFv2023</td>\n",
       "      <td>WT</td>\n",
       "      <td>Day4</td>\n",
       "      <td>EN#45</td>\n",
       "    </tr>\n",
       "  </tbody>\n",
       "</table>\n",
       "<p>224 rows × 14 columns</p>\n",
       "</div>"
      ],
      "text/plain": [
       "      StartDate     EndDate       Subject Experiment Group  Box StartTime  \\\n",
       "0    2022-05-08  2022-05-08  1_EN#20_1215   20220508     1    4  07:16:07   \n",
       "1    2022-05-08  2022-05-08    EN#26_1016   20220508     7    4  17:41:51   \n",
       "2    2022-05-08  2022-05-08    EN#76_0924   20220508     7    1  17:41:21   \n",
       "3    2022-05-08  2022-05-08    EN#77_0924   20220508     7    2  17:41:27   \n",
       "4    2022-05-13  2022-05-13    EN#35_1101   20220513     8    2  12:58:24   \n",
       "..          ...         ...           ...        ...   ...  ...       ...   \n",
       "219  2023-03-04  2023-03-04  2_EN#50-1125   20230304     2    2  10:05:08   \n",
       "220  2023-03-04  2023-03-04  4_EN#33-1012   20230304     4    4  11:10:05   \n",
       "221  2023-03-04  2023-03-04  4_EN#44-1126   20230304     4    3  11:39:38   \n",
       "222  2023-03-04  2023-03-04  4_EN#31-1012   20230304     4    1  11:45:14   \n",
       "223  2023-03-04  2023-03-04  5_EN#45-1126   20230304     5    1  12:48:44   \n",
       "\n",
       "          StartDateTime   EndTime         EndDateTime       MSN Genotype  \\\n",
       "0   2022-05-08 07:16:07  08:46:25 2022-05-08 08:46:25       CRF       MT   \n",
       "1   2022-05-08 17:41:51  19:11:59 2022-05-08 19:11:59       CRF       MT   \n",
       "2   2022-05-08 17:41:21  19:11:54 2022-05-08 19:11:54       CRF       MT   \n",
       "3   2022-05-08 17:41:27  19:11:56 2022-05-08 19:11:56       CRF       MT   \n",
       "4   2022-05-13 12:58:24  13:54:32 2022-05-13 13:54:32       CRF       MT   \n",
       "..                  ...       ...                 ...       ...      ...   \n",
       "219 2023-03-04 10:05:08  10:31:15 2023-03-04 10:31:15  CRFv2023       WT   \n",
       "220 2023-03-04 11:10:05  12:34:00 2023-03-04 12:34:00  CRFv2023       WT   \n",
       "221 2023-03-04 11:39:38  11:54:45 2023-03-04 11:54:45  CRFv2023       WT   \n",
       "222 2023-03-04 11:45:14  12:44:01 2023-03-04 12:44:01  CRFv2023       WT   \n",
       "223 2023-03-04 12:48:44  13:30:29 2023-03-04 13:30:29  CRFv2023       WT   \n",
       "\n",
       "      Day Animal  \n",
       "0    Day1  EN#20  \n",
       "1    Day1  EN#26  \n",
       "2    Day1  EN#76  \n",
       "3    Day1  EN#77  \n",
       "4    Day1  EN#35  \n",
       "..    ...    ...  \n",
       "219  Day4  EN#50  \n",
       "220  Day4  EN#33  \n",
       "221  Day4  EN#44  \n",
       "222  Day4  EN#31  \n",
       "223  Day4  EN#45  \n",
       "\n",
       "[224 rows x 14 columns]"
      ]
     },
     "execution_count": 3,
     "metadata": {},
     "output_type": "execute_result"
    }
   ],
   "source": [
    "sessions.metadata"
   ]
  },
  {
   "cell_type": "code",
   "execution_count": 4,
   "metadata": {},
   "outputs": [
    {
     "name": "stdout",
     "output_type": "stream",
     "text": [
      "Number of sessions: 224\n",
      "\n",
      "Arrays present in data with counts:\n",
      "(224) \"A\"\n",
      "(224) \"B\"\n",
      "(224) \"C\"\n",
      "(224) \"D\"\n",
      "(60) \"F\"\n",
      "\n",
      "Scalars present in data with counts:\n",
      "(224) \"R\"\n",
      "(224) \"S\"\n",
      "\n",
      "\n"
     ]
    }
   ],
   "source": [
    "sessions.describe()"
   ]
  },
  {
   "cell_type": "code",
   "execution_count": 5,
   "metadata": {},
   "outputs": [
    {
     "name": "stdout",
     "output_type": "stream",
     "text": [
      "Number of sessions: 224\n",
      "\n",
      "Arrays present in data with counts:\n",
      "(224) \"A\"\n",
      "(224) \"rewarded_nosepoke\"\n",
      "(224) \"magazine_entry\"\n",
      "(224) \"reward_retrieval_latency\"\n",
      "(60) \"nosepoke\"\n",
      "\n",
      "Scalars present in data with counts:\n",
      "(224) \"R\"\n",
      "(224) \"S\"\n",
      "\n",
      "\n"
     ]
    }
   ],
   "source": [
    "def rename_arrays_by_program(session):\n",
    "    if session.metadata['MSN'] in ['CRF', 'CRF-Cue2-rewire']:\n",
    "        session.rename_array('B', 'rewarded_nosepoke')\n",
    "        session.rename_array('C', 'magazine_entry')\n",
    "        session.rename_array('D', 'reward_retrieval_latency')\n",
    "\n",
    "    elif session.metadata['MSN'] == 'CRFv2023':\n",
    "        session.rename_array('B', 'nosepoke')\n",
    "        session.rename_array('C', 'magazine_entry')\n",
    "        session.rename_array('D', 'reward_retrieval_latency')\n",
    "        session.rename_array('F', 'rewarded_nosepoke')\n",
    "\n",
    "sessions.apply(rename_arrays_by_program)\n",
    "sessions.describe()"
   ]
  },
  {
   "cell_type": "code",
   "execution_count": 6,
   "metadata": {},
   "outputs": [
    {
     "data": {
      "text/html": [
       "<div>\n",
       "<style scoped>\n",
       "    .dataframe tbody tr th:only-of-type {\n",
       "        vertical-align: middle;\n",
       "    }\n",
       "\n",
       "    .dataframe tbody tr th {\n",
       "        vertical-align: top;\n",
       "    }\n",
       "\n",
       "    .dataframe thead th {\n",
       "        text-align: right;\n",
       "    }\n",
       "</style>\n",
       "<table border=\"1\" class=\"dataframe\">\n",
       "  <thead>\n",
       "    <tr style=\"text-align: right;\">\n",
       "      <th></th>\n",
       "      <th>Subject</th>\n",
       "      <th>Genotype</th>\n",
       "      <th>Day</th>\n",
       "      <th>Animal</th>\n",
       "      <th>event</th>\n",
       "      <th>time</th>\n",
       "    </tr>\n",
       "  </thead>\n",
       "  <tbody>\n",
       "    <tr>\n",
       "      <th>0</th>\n",
       "      <td>7_EN#59-0709</td>\n",
       "      <td>MT</td>\n",
       "      <td>Day4</td>\n",
       "      <td>EN#59</td>\n",
       "      <td>reward_retrieval_latency</td>\n",
       "      <td>1.39</td>\n",
       "    </tr>\n",
       "    <tr>\n",
       "      <th>1</th>\n",
       "      <td>3_EN#61-0101</td>\n",
       "      <td>MT</td>\n",
       "      <td>Day4</td>\n",
       "      <td>EN#61</td>\n",
       "      <td>reward_retrieval_latency</td>\n",
       "      <td>1.44</td>\n",
       "    </tr>\n",
       "    <tr>\n",
       "      <th>2</th>\n",
       "      <td>6_EN#60-0823</td>\n",
       "      <td>WT</td>\n",
       "      <td>Day4</td>\n",
       "      <td>EN#60</td>\n",
       "      <td>reward_retrieval_latency</td>\n",
       "      <td>1.45</td>\n",
       "    </tr>\n",
       "    <tr>\n",
       "      <th>3</th>\n",
       "      <td>EN#26_1220</td>\n",
       "      <td>MT</td>\n",
       "      <td>Day4</td>\n",
       "      <td>EN#26</td>\n",
       "      <td>reward_retrieval_latency</td>\n",
       "      <td>1.46</td>\n",
       "    </tr>\n",
       "    <tr>\n",
       "      <th>4</th>\n",
       "      <td>EN#26_1220</td>\n",
       "      <td>MT</td>\n",
       "      <td>Day4</td>\n",
       "      <td>EN#26</td>\n",
       "      <td>reward_retrieval_latency</td>\n",
       "      <td>1.48</td>\n",
       "    </tr>\n",
       "    <tr>\n",
       "      <th>...</th>\n",
       "      <td>...</td>\n",
       "      <td>...</td>\n",
       "      <td>...</td>\n",
       "      <td>...</td>\n",
       "      <td>...</td>\n",
       "      <td>...</td>\n",
       "    </tr>\n",
       "    <tr>\n",
       "      <th>18658</th>\n",
       "      <td>4_EN#31-1012</td>\n",
       "      <td>WT</td>\n",
       "      <td>Day3</td>\n",
       "      <td>EN#31</td>\n",
       "      <td>nosepoke</td>\n",
       "      <td>5385.06</td>\n",
       "    </tr>\n",
       "    <tr>\n",
       "      <th>18659</th>\n",
       "      <td>2_EN#81-0824</td>\n",
       "      <td>MT</td>\n",
       "      <td>Day1</td>\n",
       "      <td>EN#81</td>\n",
       "      <td>rewarded_nosepoke</td>\n",
       "      <td>5390.22</td>\n",
       "    </tr>\n",
       "    <tr>\n",
       "      <th>18660</th>\n",
       "      <td>EN#49_1224</td>\n",
       "      <td>WT</td>\n",
       "      <td>Day2</td>\n",
       "      <td>EN#49</td>\n",
       "      <td>rewarded_nosepoke</td>\n",
       "      <td>5392.14</td>\n",
       "    </tr>\n",
       "    <tr>\n",
       "      <th>18661</th>\n",
       "      <td>2_EN#81-0824</td>\n",
       "      <td>MT</td>\n",
       "      <td>Day1</td>\n",
       "      <td>EN#81</td>\n",
       "      <td>magazine_entry</td>\n",
       "      <td>5396.94</td>\n",
       "    </tr>\n",
       "    <tr>\n",
       "      <th>18662</th>\n",
       "      <td>EN#49_1224</td>\n",
       "      <td>WT</td>\n",
       "      <td>Day2</td>\n",
       "      <td>EN#49</td>\n",
       "      <td>magazine_entry</td>\n",
       "      <td>5397.41</td>\n",
       "    </tr>\n",
       "  </tbody>\n",
       "</table>\n",
       "<p>18663 rows × 6 columns</p>\n",
       "</div>"
      ],
      "text/plain": [
       "            Subject Genotype   Day Animal                     event     time\n",
       "0      7_EN#59-0709       MT  Day4  EN#59  reward_retrieval_latency     1.39\n",
       "1      3_EN#61-0101       MT  Day4  EN#61  reward_retrieval_latency     1.44\n",
       "2      6_EN#60-0823       WT  Day4  EN#60  reward_retrieval_latency     1.45\n",
       "3        EN#26_1220       MT  Day4  EN#26  reward_retrieval_latency     1.46\n",
       "4        EN#26_1220       MT  Day4  EN#26  reward_retrieval_latency     1.48\n",
       "...             ...      ...   ...    ...                       ...      ...\n",
       "18658  4_EN#31-1012       WT  Day3  EN#31                  nosepoke  5385.06\n",
       "18659  2_EN#81-0824       MT  Day1  EN#81         rewarded_nosepoke  5390.22\n",
       "18660    EN#49_1224       WT  Day2  EN#49         rewarded_nosepoke  5392.14\n",
       "18661  2_EN#81-0824       MT  Day1  EN#81            magazine_entry  5396.94\n",
       "18662    EN#49_1224       WT  Day2  EN#49            magazine_entry  5397.41\n",
       "\n",
       "[18663 rows x 6 columns]"
      ]
     },
     "execution_count": 6,
     "metadata": {},
     "output_type": "execute_result"
    }
   ],
   "source": [
    "event_df = sessions.to_dataframe(include_meta=['Genotype', 'Day', 'Animal', 'Subject'])\n",
    "event_df"
   ]
  },
  {
   "cell_type": "code",
   "execution_count": null,
   "metadata": {},
   "outputs": [],
   "source": []
  }
 ],
 "metadata": {
  "kernelspec": {
   "display_name": "med-assoc",
   "language": "python",
   "name": "python3"
  },
  "language_info": {
   "codemirror_mode": {
    "name": "ipython",
    "version": 3
   },
   "file_extension": ".py",
   "mimetype": "text/x-python",
   "name": "python",
   "nbconvert_exporter": "python",
   "pygments_lexer": "ipython3",
   "version": "3.9.16"
  },
  "orig_nbformat": 4
 },
 "nbformat": 4,
 "nbformat_minor": 2
}
